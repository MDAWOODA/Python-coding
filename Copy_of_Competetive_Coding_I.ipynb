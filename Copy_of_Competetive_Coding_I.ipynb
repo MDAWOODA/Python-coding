{
  "nbformat": 4,
  "nbformat_minor": 0,
  "metadata": {
    "colab": {
      "name": "Copy of Competetive Coding I.ipynb",
      "provenance": [],
      "collapsed_sections": [],
      "include_colab_link": true
    },
    "kernelspec": {
      "name": "python3",
      "display_name": "Python 3"
    }
  },
  "cells": [
    {
      "cell_type": "markdown",
      "metadata": {
        "id": "view-in-github",
        "colab_type": "text"
      },
      "source": [
        "<a href=\"https://colab.research.google.com/github/MDAWOODA/Python-coding/blob/main/Copy_of_Competetive_Coding_I.ipynb\" target=\"_parent\"><img src=\"https://colab.research.google.com/assets/colab-badge.svg\" alt=\"Open In Colab\"/></a>"
      ]
    },
    {
      "cell_type": "markdown",
      "metadata": {
        "id": "XA-b8BLzYrbe"
      },
      "source": [
        "\n",
        "# Time : 1 hour\n",
        "\n",
        "# Problem Statement"
      ]
    },
    {
      "cell_type": "markdown",
      "metadata": {
        "id": "soIV-F7Wcbp3"
      },
      "source": [
        "### A student is taking a cryptography class and has found anagrams to be very useful. Two strings are anagrams of each other if the first string's letters can be rearranged to form the second string. In other words, both strings must contain the same exact letters in the same exact frequency. For example, bacdc and dcbac are anagrams, but bacdc and dcbad are not.\n",
        "\n",
        "### The student decides on an encryption scheme that involves two large strings. The encryption is dependent on the minimum number of character deletions required to make the two strings anagrams. You need to determine this number.\n",
        "\n",
        "### Given two strings, $a$ and $b$, that may or may not be of the same length, determine the minimum number of character deletions required to make $a$ and $b$ anagrams. Any characters can be deleted from either of the strings. The strings $a$ and $b$ consist of lowercase English alphabets."
      ]
    },
    {
      "cell_type": "markdown",
      "metadata": {
        "id": "TS0zgz0PcfYz"
      },
      "source": [
        "**Example**\n",
        "\n",
        "<code>a = 'cde'</code>\n",
        "\n",
        "<code>b = 'dcf' </code>"
      ]
    },
    {
      "cell_type": "markdown",
      "metadata": {
        "id": "kxZ3mdXsckZm"
      },
      "source": [
        "### Delete $e$ from $a$ and $f$ from $b$ so that the remaining strings are $cd$ and $dc$ which are anagrams. This takes 2 character deletions."
      ]
    },
    {
      "cell_type": "markdown",
      "metadata": {
        "id": "1QlkSP3KcozS"
      },
      "source": [
        "## **Function Description**\n",
        "\n",
        "### Create a <code>makeAnagram</code> function below.\n",
        "\n",
        "### **Inputs:**\n",
        "\n",
        "### string a: a string\n",
        "\n",
        "### string b: another string\n",
        "\n",
        "### **Output:**\n",
        "\n",
        "### int: the minimum total characters that must be deleted"
      ]
    },
    {
      "cell_type": "markdown",
      "metadata": {
        "id": "-woYEa44Z-Cf"
      },
      "source": [
        "# Solution"
      ]
    },
    {
      "cell_type": "code",
      "metadata": {
        "id": "sJ6O2MtIZ9dP"
      },
      "source": [
        "def makeAnagram(str1,str2):\n",
        "  mapdict={'a':0,'b':1,'c':2,'d':3,'e':4,'f':5,'g':6,'h':7,'i':8,'j':9,'k':10,'l':11,'m':12,'n':13,'o':14,'p':15,'q':16,'r':17,'s':18,'t':19,'u':20,'v':21,'w':22,'x':23,'y':24,'z':25}\n",
        "  n=26  \n",
        "  str1arr=[0]*n\n",
        "  str2arr=[0]*n \n",
        "  for char in str1:\n",
        "    char_index=mapdict[char]\n",
        "    str1arr[char_index]=str1arr[char_index]+1\n",
        "\n",
        "  for char in str2:\n",
        "    char_index=mapdict[char]\n",
        "    str2arr[char_index]=str2arr[char_index]+1  \n",
        "\n",
        "  result=0\n",
        "  for i in range(26)  :\n",
        "    abs_diff=abs(str1arr[i]-str2arr[i])\n",
        "    result=result+abs_diff\n",
        "\n",
        "  return result  \n",
        " \n",
        "   "
      ],
      "execution_count": null,
      "outputs": []
    },
    {
      "cell_type": "code",
      "metadata": {
        "id": "COgSp7CXYczM",
        "outputId": "8cc33763-6057-45aa-b789-dc41fc117bde",
        "colab": {
          "base_uri": "https://localhost:8080/"
        }
      },
      "source": [
        "makeAnagram('sdfsh','ffshfyfiu')"
      ],
      "execution_count": null,
      "outputs": [
        {
          "output_type": "execute_result",
          "data": {
            "text/plain": [
              "8"
            ]
          },
          "metadata": {},
          "execution_count": 2
        }
      ]
    }
  ]
}